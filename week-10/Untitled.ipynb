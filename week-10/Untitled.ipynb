{
 "cells": [
  {
   "cell_type": "code",
   "execution_count": 1,
   "id": "6eb11754",
   "metadata": {},
   "outputs": [
    {
     "name": "stdout",
     "output_type": "stream",
     "text": [
      "Car was made in 2022, is blue, and was made by Ford\n",
      "Car was made in 2024, is red, and was made by Kia\n"
     ]
    }
   ],
   "source": [
    "def car (year,color,make=\"Ford\"):\n",
    "    print(f\"Car was made in {year}, is {color}, and was made by {make}\")\n",
    "\n",
    "car(2022,\"blue\")\n",
    "car(2024,\"red\",\"Kia\")"
   ]
  },
  {
   "cell_type": "code",
   "execution_count": null,
   "id": "f26f1996",
   "metadata": {},
   "outputs": [],
   "source": []
  }
 ],
 "metadata": {
  "kernelspec": {
   "display_name": "Python 3 (ipykernel)",
   "language": "python",
   "name": "python3"
  },
  "language_info": {
   "codemirror_mode": {
    "name": "ipython",
    "version": 3
   },
   "file_extension": ".py",
   "mimetype": "text/x-python",
   "name": "python",
   "nbconvert_exporter": "python",
   "pygments_lexer": "ipython3",
   "version": "3.11.7"
  }
 },
 "nbformat": 4,
 "nbformat_minor": 5
}
