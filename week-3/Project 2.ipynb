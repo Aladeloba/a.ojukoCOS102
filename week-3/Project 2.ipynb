{
 "cells": [
  {
   "cell_type": "code",
   "execution_count": 12,
   "id": "9875b509-8689-478e-9bec-acf6779738e8",
   "metadata": {},
   "outputs": [
    {
     "name": "stdin",
     "output_type": "stream",
     "text": [
      "INPUT A LETTER a\n",
      "input a 2\n",
      "input b 3\n",
      "input c 4\n"
     ]
    },
    {
     "name": "stdout",
     "output_type": "stream",
     "text": [
      "-28.0\n"
     ]
    }
   ],
   "source": [
    "input1 = input(\"INPUT A LETTER\")\n",
    "\n",
    "if input1 == \"A\" or \"a\" :\n",
    "    quad_input1 = float(input(\"input a\"))\n",
    "    quad_input2 = float(input(\"input b\"))\n",
    "    quad_input3 = float(input(\"input c\"))\n",
    "    value_1 = (quad_input1 ** 2.0) - (4.0 * quad_input1 * quad_input3)\n",
    "    print(value_1)\n",
    "else :\n",
    "    print(\"bye\")"
   ]
  },
  {
   "cell_type": "code",
   "execution_count": null,
   "id": "b96ec357-e919-4a8f-9022-6df9faac10db",
   "metadata": {},
   "outputs": [],
   "source": []
  }
 ],
 "metadata": {
  "kernelspec": {
   "display_name": "Python 3 (ipykernel)",
   "language": "python",
   "name": "python3"
  },
  "language_info": {
   "codemirror_mode": {
    "name": "ipython",
    "version": 3
   },
   "file_extension": ".py",
   "mimetype": "text/x-python",
   "name": "python",
   "nbconvert_exporter": "python",
   "pygments_lexer": "ipython3",
   "version": "3.11.7"
  }
 },
 "nbformat": 4,
 "nbformat_minor": 5
}
