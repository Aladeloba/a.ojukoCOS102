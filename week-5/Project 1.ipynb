{
 "cells": [
  {
   "cell_type": "code",
   "execution_count": 3,
   "id": "a533bd8e-828d-49fa-b10f-69abe35ba7bf",
   "metadata": {},
   "outputs": [],
   "source": [
    "import tkinter as tk\n",
    "from tkinter import messagebox\n",
    "import csv\n",
    "\n",
    "# Create main window\n",
    "root = tk.Tk()\n",
    "root.title(\"Validation Form\")\n",
    "root.geometry(\"500x200\")\n",
    "\n",
    "# Create name label and entry\n",
    "name_label = tk.Label(root, text=\"Last Name:\")\n",
    "name_label.pack()\n",
    "name_entry = tk.Entry(root)\n",
    "name_entry.pack()\n",
    "\n",
    "# Create department label and entry\n",
    "department_label = tk.Label(root, text=\"Department:\")\n",
    "department_label.pack()\n",
    "department_entry = tk.Entry(root)\n",
    "department_entry.pack()\n",
    "\n",
    "# function for welcome message for acct dept\n",
    "def display_department_employees(department):\n",
    "    # Create a Tkinter window\n",
    "    window = tk.Toplevel(root)\n",
    "    window.title(\"Admin - GIG Logistics\")\n",
    "    window.geometry(\"500x500\")\n",
    "\n",
    "    label = tk.Label(window, text=f\"{department.upper()} DEPARTMENT EMPLOYEES:\", anchor= 'w')\n",
    "    label.pack(fill= 'x')\n",
    "\n",
    "    # Read CSV file to find employees in the given department\n",
    "    with open(r'C:\\Users\\golde\\OneDrive\\Desktop\\PAU Stuff\\Yr1 2nd Sem\\COS 102\\GIG-logistics.csv') as csv_file:\n",
    "        csv_reader = csv.DictReader(csv_file)\n",
    "        employees = [row['SURNAME'] + \" \" + row['FIRSTNAME'] for row in csv_reader if row['DEPARTMENT'].lower() == department]\n",
    "\n",
    "    # Display employees\n",
    "    for employee in employees:\n",
    "        label = tk.Label(window, anchor='w', text=employee)\n",
    "        label.pack(fill='x')\n",
    "\n",
    "# submit button callback function\n",
    "def submit():\n",
    "    name = name_entry.get().upper()\n",
    "    department = department_entry.get().lower()\n",
    "\n",
    "    found = False\n",
    "    with open(r'C:\\Users\\golde\\OneDrive\\Desktop\\PAU Stuff\\Yr1 2nd Sem\\COS 102\\GIG-logistics.csv') as csv_file:\n",
    "        csv_reader = csv.DictReader(csv_file)\n",
    "        for row in csv_reader:\n",
    "            if row['SURNAME'].upper() == name and row['DEPARTMENT'].lower() == department:\n",
    "                found = True\n",
    "                break\n",
    "\n",
    "    if found:\n",
    "        messagebox.showinfo(\"Success\", f\"Welcome, {name}!\")\n",
    "        display_department_employees(department)\n",
    "    else:\n",
    "        messagebox.showerror(\"Login\", \"Unable to validate user\")\n",
    "\n",
    "\n",
    "# create submit button\n",
    "submit_button = tk.Button(root, text=\"Submit\", command=submit)\n",
    "submit_button.pack()\n",
    "\n",
    "root.mainloop()"
   ]
  },
  {
   "cell_type": "code",
   "execution_count": 13,
   "id": "e4fcf4ae-a1d6-4a40-bfd3-75c17b5a207d",
   "metadata": {},
   "outputs": [
    {
     "name": "stdout",
     "output_type": "stream",
     "text": [
      "First Names: ['Oluwatamilore', 'Ayomide', 'Oshim', 'Chukwunonye', 'Chiemeziem', 'Oluwatimehin', 'Osose', 'Daniel', 'Onyekachi', 'Shalom', 'Nedi', 'Stephanie', 'Jason', 'Edward', 'Otu', 'Onyinyechi', 'Makuochukwu', 'Moyosore', 'Ayonete', 'Eche', 'Michael', 'Oluwadamilola', 'Chijindu', 'Joseph', 'Daisy', 'Samuel', 'Betha', 'Boluwatife', 'Mary', 'Raphael', 'Victor', 'Derek', 'Akorede', 'Rasheed', 'Daniel', 'Mary-Cynthia', 'Owoede', 'Oluwafikunmi', 'Uchenna', 'Ejike']\n",
      "Last Names: ['ADENIRAN', 'ADEWUMI', 'ADOH-AJAGBE', 'AGBAKURU- \\\\NWOGU', 'AGBAKWURU', 'AKINDE', 'ARNIKA', 'ATELLY', 'AZOGU', 'BETURE', 'CHUKWUMA', 'EBI', 'EGBORO', 'EJEDIMU', 'ELERI', 'EZE', 'EZEONYE', 'GIWA', 'ICHA', 'IKPATI', 'ILOENYOSI', 'IYAWE', 'NWOKOLO', 'NWOTOKUBO', 'OBASOGIE', 'OBI ', 'OBIALOR', 'OGBONNA', 'OIGBOCHIE', 'OKOCHA-OJEAH', 'OKOLO', 'OKORO', 'OLOWOKERE', 'OLUBUADE', 'OSEMEKE', 'OSSAI', 'PETER', 'QUADRI', 'UDE-IBE', 'UMEH']\n",
      "Departments: ['Logistics', 'Accounting', 'Delivery', 'Accounting', 'Logistics', 'Accounting', 'Logistics', 'Delivery', 'Delivery', 'Delivery', 'Logistics', 'Accounting', 'Administration', 'Delivery', 'Administration', 'Administration', 'Logistics', 'Logistics', 'Accounting', 'Accounting', 'Delivery', 'Delivery', 'Logistics', 'Logistics', 'Accounting', 'Accounting', 'Accounting', 'Delivery', 'Delivery', 'Administration', 'Administration', 'Logistics', 'Accounting', 'Accounting', 'Accounting', 'Logistics', 'Logistics', 'Delivery', 'Delivery', 'Administration']\n"
     ]
    }
   ],
   "source": [
    "import csv\n",
    "\n",
    "last_names = []\n",
    "first_names = []\n",
    "departments = []\n",
    "with open(r'C:\\Users\\golde\\OneDrive\\Desktop\\PAU Stuff\\Yr1 2nd Sem\\COS 102\\GIG-logistics.csv') as csv_file:\n",
    "    csv_reader = csv.DictReader(csv_file)\n",
    "    for row in csv_reader:\n",
    "        last_names.append(row['SURNAME'])\n",
    "        first_names.append(row['FIRSTNAME'])\n",
    "        departments.append(row['DEPARTMENT'])\n",
    "\n",
    "print(\"First Names:\", first_names)\n",
    "print(\"Last Names:\", last_names)\n",
    "print(\"Departments:\", departments)"
   ]
  }
 ],
 "metadata": {
  "kernelspec": {
   "display_name": "Python 3 (ipykernel)",
   "language": "python",
   "name": "python3"
  },
  "language_info": {
   "codemirror_mode": {
    "name": "ipython",
    "version": 3
   },
   "file_extension": ".py",
   "mimetype": "text/x-python",
   "name": "python",
   "nbconvert_exporter": "python",
   "pygments_lexer": "ipython3",
   "version": "3.11.7"
  }
 },
 "nbformat": 4,
 "nbformat_minor": 5
}
