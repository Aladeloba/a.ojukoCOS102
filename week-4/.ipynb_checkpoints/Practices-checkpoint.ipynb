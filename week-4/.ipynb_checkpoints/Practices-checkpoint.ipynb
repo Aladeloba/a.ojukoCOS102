{
 "cells": [
  {
   "cell_type": "code",
   "execution_count": 3,
   "id": "c0a3a641-8a52-4aaf-89fc-bdb4f5a029ad",
   "metadata": {},
   "outputs": [
    {
     "name": "stdin",
     "output_type": "stream",
     "text": [
      "Enter name of City 1: Abj\n",
      "Enter name of City 2: Ib\n"
     ]
    },
    {
     "name": "stdout",
     "output_type": "stream",
     "text": [
      "The name of City 1 after swapping is Ib\n",
      "The name of City 2 after swapping is Abj\n"
     ]
    }
   ],
   "source": [
    "# Python program to swap two cities\n",
    "\n",
    "# To take inputs from the user\n",
    "city_1 = input('Enter name of City 1:')\n",
    "city_2 = input('Enter name of City 2:')\n",
    "\n",
    "# create a temporary variable and swap the cities\n",
    "temp = city_1\n",
    "city_1 = city_2\n",
    "city_2 = temp\n",
    "\n",
    "print(f\"The name of City 1 after swapping is {city_1}\")\n",
    "print(f\"The name of City 2 after swapping is {city_2}\")"
   ]
  },
  {
   "cell_type": "code",
   "execution_count": 6,
   "id": "0537809a-69db-43c8-85b3-38bce5e16d64",
   "metadata": {},
   "outputs": [
    {
     "name": "stdin",
     "output_type": "stream",
     "text": [
      "Enter a number:  0.000\n"
     ]
    },
    {
     "name": "stdout",
     "output_type": "stream",
     "text": [
      "Zero\n"
     ]
    }
   ],
   "source": [
    "# Program to Check if a Number is Positive, Negative or 0\n",
    "\n",
    "num = float(input(\"Enter a number: \"))\n",
    "if num > 0:\n",
    "    print(\"Positive number\")\n",
    "elif num == 0:\n",
    "    print(\"Zero\")\n",
    "else:\n",
    "    print(\"Negative number\")"
   ]
  },
  {
   "cell_type": "code",
   "execution_count": 31,
   "id": "c046b27b-3857-4458-828f-2a869dd58dc2",
   "metadata": {},
   "outputs": [
    {
     "name": "stdout",
     "output_type": "stream",
     "text": [
      "Welcome to the COUPE DE ESCRIVA 2023: FOOTBALL PICKS \n",
      "\n",
      "Chinedu: 19|5.7|74\n",
      "Liam: 16|5.9|87\n",
      "Wale:  18|5.8|75\n",
      "TSG Walkers: Ikechukwu\n",
      "Gbenga: 17|6.1|68\n",
      "Abiola: 20|5.9|66\n",
      "Kola: 19|5.5|87\n",
      "Kunle: 16|6.1|98\n",
      "George: 18|5.4|98\n",
      "Thomas: 17|5.8|54\n",
      "\n",
      "\n",
      "Madiba: Chubby Obiora-Okafo\n",
      "Blue-Jays: Oladimeji Abaniwonda/Jeffery Awagu\n",
      "Cirok: Timileyin Pearse/Izuako Jeremy\n",
      "TSG Walkers: Ayomide Ojituku\n"
     ]
    }
   ],
   "source": [
    "# COUPE DE ESCRIVA 2023: FOOTBALL PICKS\n",
    "\n",
    "print(\"Welcome to the COUPE DE ESCRIVA 2023: FOOTBALL PICKS \\n\")\n",
    "\n",
    "captain = {'Chinedu:' : '19|5.7|74', 'Liam:' : '16|5.9|87',\n",
    "           'Wale: ' : '18|5.8|75', 'TSG Walkers:': 'Ikechukwu',\n",
    "          'Gbenga:' : '17|6.1|68', 'Abiola:' : '20|5.9|66',\n",
    "           'Kola:' : '19|5.5|87', 'Kunle:' : '16|6.1|98',\n",
    "           'George:' : '18|5.4|98','Thomas:' : '17|5.8|54',\n",
    "           'Wesley:' : '19|5.7|60'\n",
    "          }\n",
    "\n",
    "goalkeepers = {'Madiba:': 'Chubby Obiora-Okafo',\n",
    "               'Blue-Jays:': 'Oladimeji Abaniwonda/Jeffery Awagu',\n",
    "               'Cirok:': 'Timileyin Pearse/Izuako Jeremy',\n",
    "               'TSG Walkers:': 'Ayomide Ojituku'}\n",
    "for pick in captain:\n",
    "    print(pick, captain[pick])\n",
    "\n",
    "print(\"\\n\")\n",
    "\n",
    "for pick in goalkeepers:\n",
    "    print(pick, goalkeepers[pick])"
   ]
  },
  {
   "cell_type": "code",
   "execution_count": null,
   "id": "d3633a6a-677d-4c49-8965-e08ba3d0a318",
   "metadata": {},
   "outputs": [],
   "source": [
    "print(\"Name|Age|Class|Score\")\n",
    "print(\"Aladeloba Ojuko|20|Yr1|\")"
   ]
  },
  {
   "cell_type": "code",
   "execution_count": null,
   "id": "d3a51868-32fc-4be3-82f6-2cd671a5ba21",
   "metadata": {},
   "outputs": [],
   "source": []
  }
 ],
 "metadata": {
  "kernelspec": {
   "display_name": "Python 3 (ipykernel)",
   "language": "python",
   "name": "python3"
  },
  "language_info": {
   "codemirror_mode": {
    "name": "ipython",
    "version": 3
   },
   "file_extension": ".py",
   "mimetype": "text/x-python",
   "name": "python",
   "nbconvert_exporter": "python",
   "pygments_lexer": "ipython3",
   "version": "3.11.7"
  }
 },
 "nbformat": 4,
 "nbformat_minor": 5
}
