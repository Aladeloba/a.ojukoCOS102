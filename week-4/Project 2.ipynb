{
 "cells": [
  {
   "cell_type": "code",
   "execution_count": 8,
   "id": "dcd52d4b-54b6-4976-bcc7-e58c5b5718cc",
   "metadata": {
    "scrolled": true
   },
   "outputs": [
    {
     "name": "stdout",
     "output_type": "stream",
     "text": [
      "Welcome to Izifin Technology\n"
     ]
    },
    {
     "name": "stdin",
     "output_type": "stream",
     "text": [
      "Input your name Alade\n",
      "Input your age 55\n",
      "Input your years of experience 25\n"
     ]
    },
    {
     "name": "stdout",
     "output_type": "stream",
     "text": [
      "Annual Tax Revenue(ATR) = ₦ 4,480,000\n"
     ]
    }
   ],
   "source": [
    "print(\"Welcome to Izifin Technology\")\n",
    "input_name = input(\"Input your name\")\n",
    "input_age = int(input(\"Input your age\"))\n",
    "input_experience = int(input(\"Input your years of experience\"))\n",
    "\n",
    "if input_experience > 25 and input_age >= 55:\n",
    "    print(\"Annual Tax Revenue(ATR) = ₦5,600,000\")\n",
    "\n",
    "elif input_experience > 20 and input_age >= 45:\n",
    "    print(\"Annual Tax Revenue(ATR) = ₦4,480,000\")\n",
    "\n",
    "elif input_experience > 10 and input_age >= 35:\n",
    "    print(\"Annual Tax Revenue(ATR) = ₦1,500,000\")\n",
    "\n",
    "elif input_experience < 10 and input_age < 35:\n",
    "    print(\"Annual Tax Revenue(ATR) = ₦550,000\")\n",
    "\n",
    "else:\n",
    "    print(\"error\")"
   ]
  },
  {
   "cell_type": "code",
   "execution_count": null,
   "id": "f336edc1-7486-4dc5-888d-0fba4d42e2f8",
   "metadata": {},
   "outputs": [],
   "source": []
  }
 ],
 "metadata": {
  "kernelspec": {
   "display_name": "Python 3 (ipykernel)",
   "language": "python",
   "name": "python3"
  },
  "language_info": {
   "codemirror_mode": {
    "name": "ipython",
    "version": 3
   },
   "file_extension": ".py",
   "mimetype": "text/x-python",
   "name": "python",
   "nbconvert_exporter": "python",
   "pygments_lexer": "ipython3",
   "version": "3.11.7"
  }
 },
 "nbformat": 4,
 "nbformat_minor": 5
}
