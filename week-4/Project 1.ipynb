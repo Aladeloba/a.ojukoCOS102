{
 "cells": [
  {
   "cell_type": "code",
   "execution_count": 16,
   "id": "fac23bb9-161b-4b71-b736-4cbdd28982f6",
   "metadata": {},
   "outputs": [
    {
     "name": "stdout",
     "output_type": "stream",
     "text": [
      "Information of the female students in Classroom 1 \n",
      "\n",
      "Name | Age | Height | Scores \n",
      "\n",
      "Evelyn | 17 | 5.5 | 83\n",
      "Jessica | 16 | 6.0 | 85\n",
      "Somto | 17 | 5.4 | 70\n",
      "Edith | 18 | 5.0 | 60\n",
      "Liza | 16 | 5.6 | 70\n",
      "Madonna | 18 | 5.5 | 66\n",
      "Waje | 17 | 6.1 | 87\n",
      "Tola | 20 | 6.0 | 95\n",
      "Aisha | 19 | 5.7 | 50\n",
      "Latifa | 17 | 5.5 | 41\n"
     ]
    }
   ],
   "source": [
    "print(\"Information of the female students in Classroom 1 \\n\")\n",
    "print(\"Name | Age | Height | Scores \\n\")\n",
    "\n",
    "fem_ names = [\"Evelyn\", \"Jessica\", \"Somto\", \"Edith\", \"Liza\", \"Madonna\", \"Waje\", \"Tola\", \"Aisha\", \"Latifa\"]\n",
    "fem_ages = [17, 16, 17, 18, 16, 18, 17, 20, 19, 17]\n",
    "fem_heights = [5.5, 6.0, 5.4, 5.0, 5.6, 5.5, 6.1, 6.0, 5.7, 5.5]\n",
    "fem_scores = [83, 85, 70, 60, 70, 66, 87, 95, 50, 41]\n",
    "\n",
    "for info in range(10):\n",
    "    print(fem_names[info], \"|\", fem_ages[info], \"|\", fem_heights[info], \"|\", fem_scores[info])"
   ]
  },
  {
   "cell_type": "code",
   "execution_count": 34,
   "id": "2e216f27-2031-4a4b-ace0-fbd7f81fd234",
   "metadata": {},
   "outputs": [
    {
     "name": "stdout",
     "output_type": "stream",
     "text": [
      "Information of the male students in Classroom 1 \n",
      "\n",
      "Chinedu: 19|5.7|74\n",
      "Liam: 16|5.9|87\n",
      "Wale: 18|5.8|75\n",
      "Gbenga: 17|6.1|68\n",
      "Abiola: 20|5.9|66\n",
      "Kola: 19|5.5|87\n",
      "Kunle: 16|6.1|98\n",
      "George: 18|5.4|98\n",
      "Thomas: 17|5.8|54\n",
      "Wesley: 19|5.7|60\n"
     ]
    }
   ],
   "source": [
    "print(\"Information of the male students in Classroom 1 \\n\")\n",
    "\n",
    "males = {\n",
    "    'Chinedu:' : '19|5.7|74',\n",
    "    'Liam:' : '16|5.9|87',\n",
    "    'Wale:' : '18|5.8|75',\n",
    "    'Gbenga:' : '17|6.1|68',\n",
    "    'Abiola:' : '20|5.9|66',\n",
    "    'Kola:' : '19|5.5|87',\n",
    "    'Kunle:' : '16|6.1|98',\n",
    "    'George:' : '18|5.4|98',\n",
    "    'Thomas:' : '17|5.8|54',\n",
    "    'Wesley:' : '19|5.7|60'\n",
    "}\n",
    "\n",
    "for person in males:\n",
    "    print(person, males[person])"
   ]
  },
  {
   "cell_type": "code",
   "execution_count": null,
   "id": "8e40d2cb-4b92-4886-9371-bf683ccd4c08",
   "metadata": {},
   "outputs": [],
   "source": []
  }
 ],
 "metadata": {
  "kernelspec": {
   "display_name": "Python 3 (ipykernel)",
   "language": "python",
   "name": "python3"
  },
  "language_info": {
   "codemirror_mode": {
    "name": "ipython",
    "version": 3
   },
   "file_extension": ".py",
   "mimetype": "text/x-python",
   "name": "python",
   "nbconvert_exporter": "python",
   "pygments_lexer": "ipython3",
   "version": "3.11.7"
  }
 },
 "nbformat": 4,
 "nbformat_minor": 5
}
