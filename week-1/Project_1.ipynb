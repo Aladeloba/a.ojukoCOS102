{
 "cells": [
  {
   "cell_type": "code",
   "execution_count": null,
   "id": "0946d2ec-a09f-4500-bee4-f19eee1f245d",
   "metadata": {},
   "outputs": [],
   "source": [
    "# Calculating Simple Interest\n",
    "\n",
    "r = 2"
   ]
  }
 ],
 "metadata": {
  "kernelspec": {
   "display_name": "Python 3 (ipykernel)",
   "language": "python",
   "name": "python3"
  },
  "language_info": {
   "codemirror_mode": {
    "name": "ipython",
    "version": 3
   },
   "file_extension": ".py",
   "mimetype": "text/x-python",
   "name": "python",
   "nbconvert_exporter": "python",
   "pygments_lexer": "ipython3",
   "version": "3.11.7"
  }
 },
 "nbformat": 4,
 "nbformat_minor": 5
}
