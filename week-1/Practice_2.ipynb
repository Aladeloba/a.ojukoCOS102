{
 "cells": [
  {
   "cell_type": "code",
   "execution_count": 1,
   "id": "42803546-e1a1-47a0-aca9-20dbffe1d3a5",
   "metadata": {},
   "outputs": [
    {
     "name": "stdout",
     "output_type": "stream",
     "text": [
      "Hi my name is Matthew. I am a String\n",
      "<class 'str'>\n",
      "Hi my name is Precious. I am also a String\n",
      "<class 'str'>\n"
     ]
    }
   ],
   "source": [
    "# Python program to print strings and type\n",
    "str1 = \"Hi my name is Matthew. I am a String\"\n",
    "str2 = 'Hi my name is Precious. I am also a String'\n",
    "\n",
    "# displaying string str1 and its type\n",
    "print(str1)\n",
    "print(type(str1))\n",
    "\n",
    "# displaying string str2 and its type\n",
    "print(str2)\n",
    "print(type(str2))"
   ]
  },
  {
   "cell_type": "code",
   "execution_count": null,
   "id": "58451aa5-33af-46ae-b88f-8f5c86c2d51e",
   "metadata": {},
   "outputs": [],
   "source": []
  }
 ],
 "metadata": {
  "kernelspec": {
   "display_name": "Python 3 (ipykernel)",
   "language": "python",
   "name": "python3"
  },
  "language_info": {
   "codemirror_mode": {
    "name": "ipython",
    "version": 3
   },
   "file_extension": ".py",
   "mimetype": "text/x-python",
   "name": "python",
   "nbconvert_exporter": "python",
   "pygments_lexer": "ipython3",
   "version": "3.11.7"
  }
 },
 "nbformat": 4,
 "nbformat_minor": 5
}
